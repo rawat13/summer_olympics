{
  "nbformat": 4,
  "nbformat_minor": 0,
  "metadata": {
    "colab": {
      "name": "Untitled8.ipynb",
      "provenance": []
    },
    "kernelspec": {
      "name": "python3",
      "display_name": "Python 3"
    },
    "language_info": {
      "name": "python"
    }
  },
  "cells": [
    {
      "cell_type": "code",
      "metadata": {
        "id": "wIcwRhHwXRw1"
      },
      "source": [
        "import pandas as pd\n",
        "import numpy as np\n",
        "import matplotlib as plt\n",
        "df = pd.read_csv(\"summer.csv\")"
      ],
      "execution_count": 1,
      "outputs": []
    },
    {
      "cell_type": "markdown",
      "metadata": {
        "id": "uwgwxHsKOa6k"
      },
      "source": [
        "## **In how many cities Summer Olympics is held so far?**"
      ]
    },
    {
      "cell_type": "code",
      "metadata": {
        "colab": {
          "base_uri": "https://localhost:8080/"
        },
        "id": "eCFOczJEcJTp",
        "outputId": "0f9b7b09-368b-4f5a-94a2-f56d5ed48dbf"
      },
      "source": [
        "#q1\n",
        "len(df['City'].unique())"
      ],
      "execution_count": 2,
      "outputs": [
        {
          "output_type": "execute_result",
          "data": {
            "text/plain": [
              "22"
            ]
          },
          "metadata": {},
          "execution_count": 2
        }
      ]
    },
    {
      "cell_type": "markdown",
      "metadata": {
        "id": "7EwMyqLUOmby"
      },
      "source": [
        "## **Which sport is having most number of Gold Medals so far?**"
      ]
    },
    {
      "cell_type": "code",
      "metadata": {
        "colab": {
          "base_uri": "https://localhost:8080/",
          "height": 345
        },
        "id": "vFZLgUEtGMUK",
        "outputId": "5dbcb714-7ece-4400-d775-df2f78d8ee35"
      },
      "source": [
        "#q2\n",
        "gold = df[df['Medal']=='Gold']\n",
        "gold.groupby('Sport').count()['Medal'].sort_values(ascending= False).head().plot.bar()"
      ],
      "execution_count": 3,
      "outputs": [
        {
          "output_type": "execute_result",
          "data": {
            "text/plain": [
              "<matplotlib.axes._subplots.AxesSubplot at 0x7fe53b7a5a50>"
            ]
          },
          "metadata": {},
          "execution_count": 3
        },
        {
          "output_type": "display_data",
          "data": {
            "image/png": "[encoded data removed]",
            "text/plain": [
              "<Figure size 432x288 with 1 Axes>"
            ]
          },
          "metadata": {
            "needs_background": "light"
          }
        }
      ]
    },
    {
      "cell_type": "markdown",
      "metadata": {
        "id": "hokRzzL5O2GH"
      },
      "source": [
        "## **Which sport is having most number of medals so far?**"
      ]
    },
    {
      "cell_type": "code",
      "metadata": {
        "colab": {
          "base_uri": "https://localhost:8080/",
          "height": 348
        },
        "id": "86pugjJYeSQn",
        "outputId": "ea7c2a0f-4522-4818-911f-28e3c89e6d5c"
      },
      "source": [
        "# Answer of q3\n",
        "sport_names = df['Sport']\n",
        "medal_counts = sport_names.value_counts()\n",
        "print (type(medal_counts))\n",
        "medal_counts.head().plot.bar()"
      ],
      "execution_count": 4,
      "outputs": [
        {
          "output_type": "stream",
          "name": "stdout",
          "text": [
            "<class 'pandas.core.series.Series'>\n"
          ]
        },
        {
          "output_type": "execute_result",
          "data": {
            "text/plain": [
              "<matplotlib.axes._subplots.AxesSubplot at 0x7fe541ceac50>"
            ]
          },
          "metadata": {},
          "execution_count": 4
        },
        {
          "output_type": "display_data",
          "data": {
            "image/png": "[encoded data removed]",
            "text/plain": [
              "<Figure size 432x288 with 1 Axes>"
            ]
          },
          "metadata": {
            "needs_background": "light"
          }
        }
      ]
    },
    {
      "cell_type": "markdown",
      "metadata": {
        "id": "YnDLF52MO-S7"
      },
      "source": [
        "## **Which player has won most number of medals**"
      ]
    },
    {
      "cell_type": "code",
      "metadata": {
        "colab": {
          "base_uri": "https://localhost:8080/",
          "height": 393
        },
        "id": "LjetjX_Vgvzo",
        "outputId": "53cc5cfa-f8af-4834-eb44-72303fab5c22"
      },
      "source": [
        "# Answer of q4\n",
        "athlete_names = df['Athlete']\n",
        "medal_counts = athlete_names.value_counts()\n",
        "print (type(medal_counts))\n",
        "medal_counts.head().plot.bar()"
      ],
      "execution_count": 5,
      "outputs": [
        {
          "output_type": "stream",
          "name": "stdout",
          "text": [
            "<class 'pandas.core.series.Series'>\n"
          ]
        },
        {
          "output_type": "execute_result",
          "data": {
            "text/plain": [
              "<matplotlib.axes._subplots.AxesSubplot at 0x7fe53b69db50>"
            ]
          },
          "metadata": {},
          "execution_count": 5
        },
        {
          "output_type": "display_data",
          "data": {
            "image/png": "[encoded data removed]",
            "text/plain": [
              "<Figure size 432x288 with 1 Axes>"
            ]
          },
          "metadata": {
            "needs_background": "light"
          }
        }
      ]
    },
    {
      "cell_type": "markdown",
      "metadata": {
        "id": "SQoPOM7hPHbr"
      },
      "source": [
        "## **Which player has won most number Gold Medals of medals?**"
      ]
    },
    {
      "cell_type": "code",
      "metadata": {
        "colab": {
          "base_uri": "https://localhost:8080/",
          "height": 371
        },
        "id": "V9vgmdtEGYaH",
        "outputId": "7e22f4d8-ae9a-4aca-97e9-8edc7daabfd6"
      },
      "source": [
        "#q5\n",
        "gold.groupby('Athlete').count()['Medal'].sort_values(ascending= False).head().plot.bar()"
      ],
      "execution_count": 6,
      "outputs": [
        {
          "output_type": "execute_result",
          "data": {
            "text/plain": [
              "<matplotlib.axes._subplots.AxesSubplot at 0x7fe53b0fa590>"
            ]
          },
          "metadata": {},
          "execution_count": 6
        },
        {
          "output_type": "display_data",
          "data": {
            "image/png": "[encoded data removed]",
            "text/plain": [
              "<Figure size 432x288 with 1 Axes>"
            ]
          },
          "metadata": {
            "needs_background": "light"
          }
        }
      ]
    },
    {
      "cell_type": "markdown",
      "metadata": {
        "id": "GZjkqcbIPV1m"
      },
      "source": [
        "## **In which year India won first Gold Medal in Summer Olympics?**"
      ]
    },
    {
      "cell_type": "code",
      "metadata": {
        "colab": {
          "base_uri": "https://localhost:8080/"
        },
        "id": "Ed1JI0JBfc5T",
        "outputId": "d516c518-c1db-4bcb-f74a-83154d6ee2e5"
      },
      "source": [
        "# Answer of q6\n",
        "data = df.values\n",
        "\n",
        "lst = []\n",
        "for i in range(len(data)):\n",
        "  if(data[i][5] == 'IND'):\n",
        "    if(data[i][8] == 'Gold'):\n",
        "      year = data[i][0]\n",
        "\n",
        "print (year)"
      ],
      "execution_count": 6,
      "outputs": [
        {
          "output_type": "stream",
          "name": "stdout",
          "text": [
            "2008\n"
          ]
        }
      ]
    },
    {
      "cell_type": "markdown",
      "metadata": {
        "id": "H5VwKPAsPb6w"
      },
      "source": [
        "## **Which event is most popular in terms on number of players?**"
      ]
    },
    {
      "cell_type": "code",
      "metadata": {
        "colab": {
          "base_uri": "https://localhost:8080/",
          "height": 378
        },
        "id": "aBMHjGtuo2ou",
        "outputId": "39897e7b-1ff7-4282-861e-2b1c948b5ece"
      },
      "source": [
        "# Answer of q7\n",
        "\n",
        "event_names = df['Event']\n",
        "event_counts = event_names.value_counts()\n",
        "print (type(event_counts))\n",
        "event_counts.head().plot.bar()"
      ],
      "execution_count": 7,
      "outputs": [
        {
          "output_type": "stream",
          "name": "stdout",
          "text": [
            "<class 'pandas.core.series.Series'>\n"
          ]
        },
        {
          "output_type": "execute_result",
          "data": {
            "text/plain": [
              "<matplotlib.axes._subplots.AxesSubplot at 0x7fe53b02ddd0>"
            ]
          },
          "metadata": {},
          "execution_count": 7
        },
        {
          "output_type": "display_data",
          "data": {
            "image/png": "[encoded data removed]",
            "text/plain": [
              "<Figure size 432x288 with 1 Axes>"
            ]
          },
          "metadata": {
            "needs_background": "light"
          }
        }
      ]
    },
    {
      "cell_type": "markdown",
      "metadata": {
        "id": "uELCQOd3PiGQ"
      },
      "source": [
        "## **Which sport is having most female Gold Medalists?**"
      ]
    },
    {
      "cell_type": "code",
      "metadata": {
        "colab": {
          "base_uri": "https://localhost:8080/",
          "height": 345
        },
        "id": "CdO-8V_4UVvn",
        "outputId": "0b7bb96f-2f69-4354-d64e-90f59a04f9b1"
      },
      "source": [
        "#q8\n",
        "f = gold[gold['Gender']=='Women']\n",
        "f.groupby('Sport').count()['Medal'].sort_values(ascending= False).head().plot.bar()\n"
      ],
      "execution_count": 8,
      "outputs": [
        {
          "output_type": "execute_result",
          "data": {
            "text/plain": [
              "<matplotlib.axes._subplots.AxesSubplot at 0x7fe53af3a150>"
            ]
          },
          "metadata": {},
          "execution_count": 8
        },
        {
          "output_type": "display_data",
          "data": {
            "image/png": "[encoded data removed]",
            "text/plain": [
              "<Figure size 432x288 with 1 Axes>"
            ]
          },
          "metadata": {
            "needs_background": "light"
          }
        }
      ]
    }
  ]
}